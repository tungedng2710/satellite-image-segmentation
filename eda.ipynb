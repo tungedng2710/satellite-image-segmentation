{
 "cells": [
  {
   "cell_type": "code",
   "execution_count": 1,
   "metadata": {},
   "outputs": [],
   "source": [
    "import os\n",
    "from tqdm import tqdm\n",
    "import numpy as np\n",
    "import cv2\n",
    "import matplotlib.pyplot as plt"
   ]
  },
  {
   "cell_type": "code",
   "execution_count": 17,
   "metadata": {},
   "outputs": [],
   "source": [
    "def divide_image(image, part_size):\n",
    "    \"\"\"\n",
    "    crop image into n parts with given size\n",
    "    image: opencv image (numpy ndarray: (h, w, c))\n",
    "    part_size: tuple of (height, width)\n",
    "    \"\"\"\n",
    "    height, width, _ = image.shape\n",
    "    crops = []\n",
    "\n",
    "    # Calculate the number of parts in each dimension\n",
    "    n_parts_vertical = height // part_size[0]\n",
    "    n_parts_horizontal = width // part_size[1]\n",
    "\n",
    "    # Iterate over the image and extract each part\n",
    "    for i in range(n_parts_vertical):\n",
    "        for j in range(n_parts_horizontal):\n",
    "            # Calculate the starting and ending indices for each part\n",
    "            start_i = i * part_size[0]\n",
    "            end_i = (i + 1) * part_size[0]\n",
    "            start_j = j * part_size[1]\n",
    "            end_j = (j + 1) * part_size[1]\n",
    "\n",
    "            # Extract the part from the image\n",
    "            part = image[start_i:end_i, start_j:end_j]\n",
    "            crops.append(part)\n",
    "    return crops"
   ]
  },
  {
   "cell_type": "code",
   "execution_count": 19,
   "metadata": {},
   "outputs": [],
   "source": [
    "root_dir = \"./data\"\n",
    "image_paths = []\n",
    "for filename in os.listdir(root_dir):\n",
    "    if filename.lower().endswith(('.png', '.jpg', '.jpeg', '.tiff', '.bmp', '.gif', 'tif')):\n",
    "        image_paths.append(os.path.join(root_dir, filename))"
   ]
  },
  {
   "cell_type": "code",
   "execution_count": 20,
   "metadata": {},
   "outputs": [
    {
     "name": "stderr",
     "output_type": "stream",
     "text": [
      "1920it [00:02, 649.07it/s]\n",
      "1968it [00:03, 617.39it/s]\n"
     ]
    }
   ],
   "source": [
    "crop_size = (256, 256)\n",
    "save_dir = f\"./data/test_crops_{crop_size[0]}_{crop_size[1]}/\"\n",
    "file_ext = \"jpg\"\n",
    "\n",
    "if not os.path.exists(save_dir):\n",
    "    os.makedirs(save_dir)\n",
    "\n",
    "for image_path in image_paths:\n",
    "    image = cv2.imread(image_path)\n",
    "    crops = divide_image(image, crop_size)\n",
    "    for idx, part in tqdm(enumerate(crops)):\n",
    "        save_name = f\"{os.path.basename(image_path).split('.')[0]}_part{idx}.{file_ext}\"\n",
    "        save_path = os.path.join(save_dir, save_name)\n",
    "        cv2.imwrite(save_path, part)"
   ]
  },
  {
   "cell_type": "code",
   "execution_count": null,
   "metadata": {},
   "outputs": [],
   "source": []
  }
 ],
 "metadata": {
  "kernelspec": {
   "display_name": "aerial",
   "language": "python",
   "name": "python3"
  },
  "language_info": {
   "codemirror_mode": {
    "name": "ipython",
    "version": 3
   },
   "file_extension": ".py",
   "mimetype": "text/x-python",
   "name": "python",
   "nbconvert_exporter": "python",
   "pygments_lexer": "ipython3",
   "version": "3.10.11"
  },
  "orig_nbformat": 4
 },
 "nbformat": 4,
 "nbformat_minor": 2
}
